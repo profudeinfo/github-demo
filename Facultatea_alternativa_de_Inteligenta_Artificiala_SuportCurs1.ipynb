{
  "nbformat": 4,
  "nbformat_minor": 0,
  "metadata": {
    "colab": {
      "name": "Facultatea alternativa de Inteligenta Artificiala - SuportCurs1.ipynb",
      "provenance": [],
      "collapsed_sections": [],
      "include_colab_link": true
    },
    "kernelspec": {
      "name": "python3",
      "display_name": "Python 3"
    },
    "language_info": {
      "name": "python"
    }
  },
  "cells": [
    {
      "cell_type": "markdown",
      "metadata": {
        "id": "view-in-github",
        "colab_type": "text"
      },
      "source": [
        "<a href=\"https://colab.research.google.com/github/profudeinfo/github-demo/blob/master/Facultatea_alternativa_de_Inteligenta_Artificiala_SuportCurs1.ipynb\" target=\"_parent\"><img src=\"https://colab.research.google.com/assets/colab-badge.svg\" alt=\"Open In Colab\"/></a>"
      ]
    },
    {
      "cell_type": "markdown",
      "metadata": {
        "id": "GI7A0_2fD7p9"
      },
      "source": [
        "# **Suport de curs - Modulul 1**"
      ]
    },
    {
      "cell_type": "markdown",
      "metadata": {
        "id": "d8uCT3gu5j8f"
      },
      "source": [
        "# **1. Ce este un enviroment?**\n",
        "Scopul unui enviroment este acela de a crea un mediu izolat unde sa ruleze o anumita aplicatie Python. In acel enviroment vom stoca toate librariile cu versiunile aferente de care aplicatia are nevoie pentru a rula.\n",
        "# **2. Anaconda**\n",
        "Anaconda este o distributie de Python si R, care faciliteaza dezvoltarea proiectelor de Machine Learning&Data Science prin oferirea catorva tool-uri, printre care managerul de enviroment-uri Conda.\n",
        "\n",
        "# **3. Conda**\n",
        "Conda este un manager de enviroment-uri si de pachete. \n",
        "<br>\n",
        "By default, toate comenzile for fi interpretate direct ca si cod Python.\n",
        "Toate comenzile care nu reprezinta cod de Python trebuie sa inceapa cu caracterul \"!\""
      ]
    },
    {
      "cell_type": "markdown",
      "metadata": {
        "id": "xusBlPk3J9uc"
      },
      "source": [
        "**3.1 Instalarea conda in Google Colab**\n",
        "<br>\n",
        "Rulati cele 6 comenzi din celula de mai jos **doar daca folositi Google Colab.** Ele sunt pentru a instala Conda in Google Colab.\n",
        "\n"
      ]
    },
    {
      "cell_type": "code",
      "metadata": {
        "id": "-h_lURaiJjQ_"
      },
      "source": [
        "%%bash\n",
        "MINICONDA_INSTALLER_SCRIPT=Miniconda3-4.5.4-Linux-x86_64.sh\n",
        "MINICONDA_PREFIX=/usr/local\n",
        "wget https://repo.continuum.io/miniconda/$MINICONDA_INSTALLER_SCRIPT\n",
        "chmod +x $MINICONDA_INSTALLER_SCRIPT\n",
        "./$MINICONDA_INSTALLER_SCRIPT -b -f -p $MINICONDA_PREFIX"
      ],
      "execution_count": null,
      "outputs": []
    },
    {
      "cell_type": "markdown",
      "metadata": {
        "id": "DmeNK6S8KHcY"
      },
      "source": [
        "**3.2 Afisarea tuturor enviroment-urilor disponibile.**\n",
        "<br>\n",
        "Enviroment-ul curent va avea caracterul \"*\" in partea dreapta."
      ]
    },
    {
      "cell_type": "code",
      "metadata": {
        "id": "ZEl17SefFZzH"
      },
      "source": [
        "!conda env list"
      ],
      "execution_count": null,
      "outputs": []
    },
    {
      "cell_type": "markdown",
      "metadata": {
        "id": "DCfrqxi9WQfG"
      },
      "source": [
        "**3.3 Afisarea tuturor pachetelor instalate in enviroment-ul curent**"
      ]
    },
    {
      "cell_type": "code",
      "metadata": {
        "id": "Zd1cHhnDWhei"
      },
      "source": [
        "!conda list"
      ],
      "execution_count": null,
      "outputs": []
    },
    {
      "cell_type": "markdown",
      "metadata": {
        "id": "LQPBTq5IlDde"
      },
      "source": [
        "**3.4 Creearea unui nou enviroment cu numele `faia`**\n",
        "\n",
        "\n"
      ]
    },
    {
      "cell_type": "code",
      "metadata": {
        "id": "Y6uwoPXHlGuY"
      },
      "source": [
        "!conda create --name faia python=3.8"
      ],
      "execution_count": null,
      "outputs": []
    },
    {
      "cell_type": "markdown",
      "metadata": {
        "id": "oRG7i0dZLZgv"
      },
      "source": [
        "**3.5 Activam enviroment-ul `faia`, pe care tocmai l-am creeat**"
      ]
    },
    {
      "cell_type": "code",
      "metadata": {
        "id": "NV0cEO9mLZLK"
      },
      "source": [
        "!conda activate faia"
      ],
      "execution_count": null,
      "outputs": []
    },
    {
      "cell_type": "markdown",
      "metadata": {
        "id": "AK60IjhOsnLH"
      },
      "source": [
        "**3.6 Stergerea enviroment-ului `faia`**\n",
        "<br>\n",
        "Mai intai trebuie sa dezactivam `faia` ca fiind enviroment-ul curent iar apoi il stergem."
      ]
    },
    {
      "cell_type": "code",
      "metadata": {
        "id": "WTrdYWNosq60"
      },
      "source": [
        "!conda deactivate \n",
        "!conda env remove --name faia"
      ],
      "execution_count": null,
      "outputs": []
    },
    {
      "cell_type": "markdown",
      "metadata": {
        "id": "SeOKFZcEGsFD"
      },
      "source": [
        "# **4. Alte resurse utile pentru Conda:**\n",
        "\n",
        "*   [Instalare Anaconda](https://www.anaconda.com/products/individual-d)\n",
        "*   [Conda cheetsheet](https://docs.conda.io/projects/conda/en/4.6.0/_downloads/52a95608c49671267e40c689e0bc00ca/conda-cheatsheet.pdf)\n",
        "*   [Repository-ul cu pachete Conda](https://anaconda.org/search?q=opencv)\n",
        "\n",
        "\n"
      ]
    },
    {
      "cell_type": "markdown",
      "metadata": {
        "id": "sATmnnxaLvLa"
      },
      "source": [
        "# **5. Python crash course**\n",
        "Python este un limbaj de programare **interpretat**, adica codul se executa linie cu linie. Spre deosebire de C/C++ sau alte limbaje, care necesita un compilator pentru a rula.\n",
        "Acest lucru vine la pachet cu un avantaj major, **portabilitatea**, dar si cu un dezavantaj, **viteza de rulare** mai scazuta.\n",
        "<br>\n",
        "Am ales Python pentru acest curs din urmatoarele motive:\n",
        "\n",
        "\n",
        "*   Este foarte usor de implementat **prototipuri**. In Machine Learning scopul este sa rezolvam probleme, iar limbajul de programare este doar o unealta.\n",
        "*   Exista limbajul cu **cea mai mare comunitate** open source pentru Data Science&Machine Learning. Gasim foarte multe librarii disponibile.\n",
        "*   Este un limbaj extrem de **versatil**. Il poti folosi de la programare web, la programare pe microcontrollere, scripturi, AI, s.a.m.d\n",
        "\n",
        "\n",
        "Urmatorul **crash course** este gandit special pentru persoanele care au o minima experienta in orice limbaj de programare si vor sa invete Python pentru Machine Learning, cat mai repede cu putinta.\n",
        "<br>\n",
        "Va recomand sa va jucati cu aceste comenzi nu doar aici, ci si in **Visual Studio Code**."
      ]
    },
    {
      "cell_type": "markdown",
      "metadata": {
        "id": "HNPhZLC1p2IU"
      },
      "source": [
        "**5.1 Hello world**\n",
        "<br>\n",
        "Cam atat de simplu este sa afisezi un text in Python. Pentru a rula local, fisierul trebuie salvat cu extensia `.py `, iar apoi scriem comanda `python [nume_fisier].py`"
      ]
    },
    {
      "cell_type": "code",
      "metadata": {
        "id": "tIKOvFTgp7E_"
      },
      "source": [
        "print(\"Hello world\")"
      ],
      "execution_count": null,
      "outputs": []
    },
    {
      "cell_type": "markdown",
      "metadata": {
        "id": "T-QJMo5SQTPZ"
      },
      "source": [
        "**5.2 Comentarii**"
      ]
    },
    {
      "cell_type": "code",
      "metadata": {
        "id": "Q497ZvLEQRLH"
      },
      "source": [
        "# First, this is a comment in Python. We will use this a lot :) \n",
        "\n",
        "\"\"\"\n",
        "Here are multiple comments, \n",
        "on multiple lines\n",
        "asdsdf\n",
        "sdfsdfds\n",
        "\"\"\""
      ],
      "execution_count": null,
      "outputs": []
    },
    {
      "cell_type": "markdown",
      "metadata": {
        "id": "g_czzl-jtX6L"
      },
      "source": [
        "**5.3 Variabile si tipuri de date**\n"
      ]
    },
    {
      "cell_type": "code",
      "metadata": {
        "id": "P1TCB2uWtdzb"
      },
      "source": [
        "variable1 = \"FAIA\" # String\n",
        "variable2 ='Facultatea alternativa de Inteligenta Artificiala' # This is also a String.\n",
        "\n",
        "print(f\"Bun venit la {variable2}, {variable1}\")\n",
        "\n",
        "# Type will return the data type.\n",
        "print(type(variable1)) # <type 'str'>. We will see the explanation of this later."
      ],
      "execution_count": null,
      "outputs": []
    },
    {
      "cell_type": "code",
      "metadata": {
        "id": "2mjrJGOIuS3a"
      },
      "source": [
        "# Integers\n",
        "print(2)\n",
        "print(2 * 3)\n",
        "print(2 ** 3)\n",
        "\n",
        "# Floats\n",
        "print(0.1 + 0.2)\n",
        "print(2 * 0.1)\n",
        "\n",
        "# Bools - First letter is caps\n",
        "print(True) \n",
        "print(False)\n",
        "print(bool(\"some value\")) # Returns True\n",
        "print(bool(1)) # Returns True\n",
        "print(bool(0))"
      ],
      "execution_count": null,
      "outputs": []
    },
    {
      "cell_type": "markdown",
      "metadata": {
        "id": "OEEfCwNeu9XP"
      },
      "source": [
        "**5.4 Liste**\n",
        "<br>\n",
        "Listele sunt simple array-uri in Python. O lista poate contine mai multe tipuri de date. "
      ]
    },
    {
      "cell_type": "code",
      "metadata": {
        "id": "-l5ktp3qvCNh"
      },
      "source": [
        "numbers = [\"one\", \"two\", \"three\", 1, True]\n",
        "\n",
        "print(numbers[0]) # one\n",
        "\n",
        "print(numbers[-1]) # three. If we pass negative value Python will start from the end. -1 represents the last element. -2 last but one, and so on...\n",
        "\n",
        "print(numbers[-2]) \n",
        "\n",
        "print(len(numbers)) \n",
        "\n",
        "numbers.append(\"four\") # Append will add the element to the last, resulting [\"one\", \"two\", \"three\", \"four\"]\n",
        "\n",
        "numbers.insert(1, \"wrong_one\") # Insert will insert the particular value to the appropiate position. [\"one\", \"wrong_one\", \"two\", \"three\", \"four\"]\n",
        "\n",
        "# Deleting a value is somewhat weird\n",
        "del numbers[1] # Will delete the value in the appropiate position. \"one\", \"two\", \"three\", \"four\"]\n",
        "\n",
        "print(popped_element) # four\n",
        "print(numbers) # [\"one\", \"two\", \"three\"]\n",
        "\n",
        "# Remove elements by value\n",
        "numbers.remove(\"two\") # [\"one\", \"three\"]. This will remove only the first occurence of an array.\n",
        "\n",
        "# Sorting\n",
        "alpha = [\"z\", \"c\", \"a\"]\n",
        "alpha.sort()\n",
        "print(alpha) # [\"a\", \"c\", \"z\"] Sorting is permanent. now `alpha` is sorted permanently\n",
        "\n",
        "alpha.sort(reverse=True)\n",
        "print(alpha) #[\"z\", \"c\" , \"a\"] Reverse sorting.\n",
        "\n",
        "alpha = [\"z\", \"c\", \"a\"]\n",
        "print(sorted(alpha)) # [\"a\", \"c\", \"z\"] This will just return the sorted array. It wont save the sorted array to the variable itself.\n",
        "# new_list = sorted(lista_veche)\n",
        "\n",
        "\n",
        "print(alpha) # [\"z\", \"c\", \"a\"] As you can see, it's not sorted\n",
        "\n",
        "# SLICING elements\n",
        "alpha = ['a', 'b', 'c', 'd', 'e']\n",
        "print(alpha[1:3]) # ['b', 'c']. The first element is the starting index. And Python stops in the item before the second index.\n",
        "print(alpha[2:5]) # ['c', 'd', 'e']\n",
        "\n",
        "print(alpha[:4]) # [ 'a', 'b', 'c', 'd'] In this case, the first index is not present, so Python startes from the beginning.\n",
        "\n",
        "print(alpha[3:]) # ['d', 'e'] In this case, last index is not present. So it travels till the end of the list.\n",
        "\n",
        "print(alpha[:]) # ['a', 'b', 'c', 'd', 'e'] There is no starting or ending index, so it outputs the entire array\n",
        "\n",
        "another_alpha = alpha # This is not copying the array. Any changes in alpha will affect another_alpha too.\n",
        "\n",
        "# How to solve this?\n",
        "import copy\n",
        "another_alpha = copy.copy(alpha)\n",
        "alpha.append('element_only_in_alpha')\n",
        "print(another_alpha)"
      ],
      "execution_count": null,
      "outputs": []
    },
    {
      "cell_type": "markdown",
      "metadata": {
        "id": "pSutKLoixAsp"
      },
      "source": [
        "**5.5 Tuple**\n",
        "<br>\n",
        "Acest tuple sunt exact ca listele, cu diferenta ca sunt imutabile. Adica nu se pot adauga elemente sau face update-uri. Se pot doar citi elemente"
      ]
    },
    {
      "cell_type": "code",
      "metadata": {
        "id": "kKA9ghXCxPE4"
      },
      "source": [
        "nums = (1, 2, 3)\n",
        "\n",
        "print(nums) # (1, 2, 3)\n",
        "\n",
        "print(nums[0]) # 1\n",
        "\n",
        "print(len(nums)) # 3\n",
        "\n",
        "empty_tuple = () # empty tuple. Length is zero.\n",
        "\n",
        "num = (1, ) # Note the trailing comma. When defining a single element in the tuple, consider adding a trailing comma.\n",
        "\n",
        "num = (1)\n",
        "print(type(num)) # <type 'int'> It won't return a tuple. Because there is no trailing comma.\n",
        "\n",
        "# Creating a new tuple from the existing tuple\n",
        "nums = (1, 2, 3)\n",
        "char = ('a', )\n",
        "new_tuple = nums + char\n",
        "print(new_tuple) # (1, 2, 3, 'a')"
      ],
      "execution_count": null,
      "outputs": []
    },
    {
      "cell_type": "markdown",
      "metadata": {
        "id": "IrodaVIzxtu9"
      },
      "source": [
        "**5.6 Dictionare**\n",
        "<br>\n",
        "Dictionarele sunt formate din perechi cheie-valoare."
      ]
    },
    {
      "cell_type": "code",
      "metadata": {
        "id": "ZxQ7EVqkxvsj"
      },
      "source": [
        "user = {'id': 1, 'name': 'Bogdan G.', 'email': 'contact@gmail.com'}\n",
        "\n",
        "user['id'] # 1\n",
        "user['name'] # Bogdan G.\n",
        "\n",
        "# Length of the dict\n",
        "len(user) # 3\n",
        "\n",
        "# Add new key-value pair\n",
        "user['age'] = 26\n",
        "\n",
        "# To get all the keys\n",
        "keys = user.keys() # ['id', 'name', 'email', 'age']. This will return a list.\n",
        "\n",
        "# To get all the values\n",
        "values = user.values() # [1, 'Bogdan G.', 'contact@gmail.com']\n",
        "\n",
        "# To delete a key\n",
        "# del user['age']\n",
        "\n",
        "user['age']  = None\n",
        "\n",
        "# Iterate dict\n",
        "for var1, var2 in user.items():\n",
        "    print(var1, var2)\n"
      ],
      "execution_count": null,
      "outputs": []
    },
    {
      "cell_type": "markdown",
      "metadata": {
        "id": "0c44Ea2wyeSH"
      },
      "source": [
        "**5.7 Conditii if/else**"
      ]
    },
    {
      "cell_type": "code",
      "metadata": {
        "id": "E7sx5RjCyhHI"
      },
      "source": [
        "a = 5\n",
        "b = 10\n",
        "\n",
        "# See for the indentation. Indentations are very important in Python.\n",
        "# Python will throw error if indentations are not proper. For every level, four (4) spaces are required\n",
        "if a == 5:\n",
        "  print('Awesome')\n",
        "\n",
        "# and is equivalent to && \n",
        "if (a == 5) and (b == 10):\n",
        "  print('A is five and b is ten')\n",
        "\n",
        "# or is equivalent to ||\n",
        "if (a < 6) or (a == 10):\n",
        "  print('A should be less than 6 or should be equal to ten')\n",
        "\n",
        "# if else statement. This is same as most of the languages.\n",
        "if a == 5:\n",
        "  print('A is five')\n",
        "elif a == 6:\n",
        "  print('A is six')\n",
        "elif a == 7:\n",
        "  print('A is seven')\n",
        "else:\n",
        "  print('A is some number')\n",
        "\n",
        "# not is equivalent to !\n",
        "if a != 10:\n",
        "  print('A is not equal to 10')\n",
        "\n",
        "if not a == 10:\n",
        "  print('A is not equal to 10')"
      ],
      "execution_count": null,
      "outputs": []
    },
    {
      "cell_type": "markdown",
      "metadata": {
        "id": "Wlrf_Mukz8Lb"
      },
      "source": [
        "**5.8 Loop-uri While**"
      ]
    },
    {
      "cell_type": "code",
      "metadata": {
        "id": "ZWd_r-32z-pE"
      },
      "source": [
        "# The following while print till 5. \n",
        "i = 0\n",
        "while i <= 5:\n",
        "  print(i)\n",
        "  i += 1\n",
        "\n",
        "print('-' * 15)\n",
        "# While loop has else part. Else part will execute once the entire loop is completed.\n",
        "i = 10\n",
        "while i <= 15:\n",
        "  print(i)\n",
        "  i += 1\n",
        "else:\n",
        "  print('Completed')"
      ],
      "execution_count": null,
      "outputs": []
    },
    {
      "cell_type": "markdown",
      "metadata": {
        "id": "jqDqMKNy0PPC"
      },
      "source": [
        "Keyword-ul `break` opreste executia unui loop"
      ]
    },
    {
      "cell_type": "code",
      "metadata": {
        "id": "Dw4jcKgR0VSx"
      },
      "source": [
        "# Using brake or continue in while loop\n",
        "i = 0\n",
        "while i <= 5:\n",
        "  if i == 3:\n",
        "    break \n",
        "  print(i)\n",
        "  i += 1"
      ],
      "execution_count": null,
      "outputs": []
    },
    {
      "cell_type": "markdown",
      "metadata": {
        "id": "X2ACKhyl0bSX"
      },
      "source": [
        "Keyword-ul `continue` continua executia loop-ului. Practic nu se mai executa nimic din iteratia respectiva"
      ]
    },
    {
      "cell_type": "code",
      "metadata": {
        "id": "ghn3ubs_0lUb"
      },
      "source": [
        "# Using brake or continue in while loop\n",
        "i = 0\n",
        "while i <= 5:\n",
        "  if i == 3:\n",
        "    i += 1\n",
        "    continue \n",
        "  print ('lalala')\n",
        "  i += 1\n",
        "  print(i)\n"
      ],
      "execution_count": null,
      "outputs": []
    },
    {
      "cell_type": "markdown",
      "metadata": {
        "id": "x6MTLtI94kAr"
      },
      "source": [
        "**5.9 Functii**"
      ]
    },
    {
      "cell_type": "code",
      "metadata": {
        "id": "yW78S5ejMtjX"
      },
      "source": [
        "# A simple function in Python\n",
        "def prints_hello_world():\n",
        "    print('Hello world from Python')\n",
        "\n",
        "prints_hello_world()"
      ],
      "execution_count": null,
      "outputs": []
    },
    {
      "cell_type": "code",
      "metadata": {
        "id": "ccYtv6chMvZJ"
      },
      "source": [
        "# Function with arguments\n",
        "def prints_something(something):\n",
        "  return something + ' from Python'\n",
        "\n",
        "print(prints_something('Hello world'))"
      ],
      "execution_count": null,
      "outputs": []
    },
    {
      "cell_type": "code",
      "metadata": {
        "id": "jNLSfMy9Mya9"
      },
      "source": [
        "# Function with arguments and default params\n",
        "def prints_something(something='Hello world'):\n",
        "  return something + ' from Python', \"var2\", 2 \n",
        "\n",
        "print(prints_something())\n",
        "print(prints_something('Hello dsfsdfds'))\n",
        "\n",
        "arg1, arg2, arg3 = prints_something('Hello dsfsdfds')"
      ],
      "execution_count": null,
      "outputs": []
    },
    {
      "cell_type": "code",
      "metadata": {
        "id": "NTwdBk-4M0pS"
      },
      "source": [
        "# keyword arguments. You can pass explicitly which parameter should be matched. In this way, you don't have to send the arguments in order just explicitly mention the parameter name.\n",
        "def movie_info(title, director_name, ratings):\n",
        "  print(title + \" - \" + director_name + \" - \" + ratings)\n",
        "\n",
        "movie_info(ratings='9/10', director_name='David Fincher', title='Fight Club')"
      ],
      "execution_count": null,
      "outputs": []
    },
    {
      "cell_type": "markdown",
      "metadata": {
        "id": "-uOR_BGSKzpx"
      },
      "source": [
        "**5.10 Clase**\n",
        "<br>\n",
        "Python este un limbaj care suporta programare orientata pe obiecte.\n",
        "<br>\n",
        "**Particularitati Python:**\n",
        "*   Operatorul `self` este folosit pentru a accesa variabilele asociate cu instanta curenta. Se comporta exact ca si `this` din Java \n",
        "*   In semnatura fiecarei functii (declarare) trebuie sa apara primul argument `self`\n",
        "\n"
      ]
    },
    {
      "cell_type": "code",
      "metadata": {
        "id": "7AuFeoHpNDUF"
      },
      "source": [
        "# It's a convention that the class name starts with caps. But Python doesn't throw any error if you are not following it.\n",
        "class Animal():\n",
        "  # This is the constructor.\n",
        "  # As you can see in every method of the class I have passed 'self' as the first parameter.\n",
        "  # The first parameter is always expected to be the current instance of the class and it is mandatory to pass the instance in the first parameter.\n",
        "  # And you can name that variable whatever you like.\n",
        "  def __init__(self, name): \n",
        "    self.name = name\n",
        "\n",
        "  def eat(self):\n",
        "    print(self.name +' eats')\n",
        "\n",
        "  def sleep(self):\n",
        "    print(self.name +' sleeps')\n",
        "\n",
        "# Initiating a class\n",
        "dog = Animal('harry')\n",
        "dog.eat()\n",
        "\n",
        "print(dog.name) # As you can see, 'name' attribute is also avaiable in public. \n",
        "\n",
        "# It can even be modified.\n",
        "dog.name = 'Rosie'\n",
        "print(dog.name) # 'Rosie'\n",
        "\n",
        "# Technically there is no way to make private attrbiutes in Python. But there are some techniques Python devs are using it. I will try to list out some.\n",
        "\n",
        "# Protected attributes.\n",
        "# These attributes can only be accessed within the class and also by the sub-class."
      ],
      "execution_count": null,
      "outputs": []
    },
    {
      "cell_type": "code",
      "metadata": {
        "id": "J_nDhoX7PcTc"
      },
      "source": [
        "# Inheritance\n",
        "class Animal():\n",
        "  def __init__(self, name):\n",
        "    self.name = name\n",
        "\n",
        "  def eat(self):\n",
        "    print('Animal eats')\n",
        "\n",
        "  def sleep(self):\n",
        "    print('Animal sleeps')\n",
        "\n",
        "# Dog is a sub class of Animal\n",
        "class Dog(Animal):\n",
        "  def __init__(self, name):\n",
        "    self.name = name\n",
        "\n",
        "  def eat(self):\n",
        "    print('Dog eats')\n",
        "\n",
        "\n",
        "dog1 = Dog('harry')\n",
        "dog1.eat() # Dog eats\n",
        "dog1.sleep() # Animal sleeps"
      ],
      "execution_count": null,
      "outputs": []
    },
    {
      "cell_type": "markdown",
      "metadata": {
        "id": "fo_s7s3mNVLf"
      },
      "source": [
        "**5.11 Tratarea exceptiilor**"
      ]
    },
    {
      "cell_type": "code",
      "metadata": {
        "id": "clnnEwcuNXLm"
      },
      "source": [
        "# The code which can raise exceptions can be wrapped in 'try' statement. 'except' will handle that exception.\n",
        "try:\n",
        "  a = 2/0\n",
        "except:\n",
        "  print('Exception handled')\n",
        "finally:\n",
        "  print('Code executed at the end')"
      ],
      "execution_count": null,
      "outputs": []
    },
    {
      "cell_type": "code",
      "metadata": {
        "id": "KPr1t9mQNvPl"
      },
      "source": [
        "# Every exception in Python will inherit from 'exception' class. \n",
        "# In the below example, you can see that the 'NameError' is the exception class derived from the main 'Exception' class.\n",
        "try:\n",
        "  a = 2/0\n",
        "except Exception as e:\n",
        "  print('Exception raised')\n",
        "  print(e.__class__) # <class 'NameError'>\n",
        "  print(e)"
      ],
      "execution_count": null,
      "outputs": []
    },
    {
      "cell_type": "markdown",
      "metadata": {
        "id": "PDFT6Ba6n1us"
      },
      "source": [
        "# **6. Alte resurse utile pentru Python**\n",
        "\n",
        "*   [Instalare Visual Studio Code](https://code.visualstudio.com)\n",
        "*   [Documentatia oficiala Python - pentru a intra in profunzime](https://docs.python.org/3.8/tutorial/index.html)\n",
        "*   [Curs complet de la incepator la expert ](https://www.youtube.com/watch?v=sxTmJE4k0ho&ab_channel=TechWithTim)\n",
        "*   [OOP in Python](https://www.youtube.com/watch?v=v_Jp11xqCzg&list=PLzMcBGfZo4-l1MqB1zoYfqzlj_HH-ZzXt&ab_channel=TechWithTim)\n",
        "* [PEP8 - guideline-ul oficial pentru a scrie cod Python 'curat'](https://www.python.org/dev/peps/pep-0008/)\n"
      ]
    },
    {
      "cell_type": "markdown",
      "metadata": {
        "id": "eqLfrTwzRuik"
      },
      "source": [
        "# **7. Librariile cu care vom lucra**\n",
        "Exista **trei** librarii principale pe care le vom folosi:\n",
        "\n",
        "\n",
        "1.   **NumPy** - pentru operatii de algebra liniara\n",
        "2.   **Matplotlib** - pentru vizualizare\n",
        "3.   **PyTorch** - biblioteca de DeepLearning\n",
        "\n"
      ]
    },
    {
      "cell_type": "code",
      "metadata": {
        "id": "7INXxDi6Sg6A"
      },
      "source": [
        "import numpy as np\n",
        "from matplotlib import pyplot as plt\n",
        "\n",
        "# Declare a numpy array\n",
        "signal_1d = np.array([1, 2, 3, 2, 3, 4, 5, 1, 4, 2])\n",
        "\n",
        "# Plot it\n",
        "plt.plot(signal_1d)\n",
        "plt.show()"
      ],
      "execution_count": null,
      "outputs": []
    },
    {
      "cell_type": "markdown",
      "metadata": {
        "id": "HRlQ830UmEwl"
      },
      "source": [
        "# **8. Task-uri de rezolvat**\n",
        "\n",
        "\n",
        "\n",
        "1.   Instalați Anaconda și Visual Studio Code\n",
        "2.   Creeați un nou enviroment\n",
        "3.   Realizați un solver pentru ecuații de gradul 2 în Python. Folositi [acest link](https://www.mathsisfun.com/quadratic-equation-solver.html) pentru a va verifica solutia\n",
        "4.   Postați tema pe grup, cu hashtagul `#tema1`\n",
        "5.   Oferiți feedback colegilor\n",
        "6.   **Sărbatoriți**\n",
        "\n",
        "**Optional**:\n",
        "\n",
        "1. Faceti un plot al functiei de intrare, folosind libraria Matplotlib. Observati cum variaza inaltimea mingei in functie de timp.\n",
        "2. Folosind NumPy, determinati care este punctul in care mingea atinge punctul maxim.\n",
        "\n",
        "\n",
        "\n",
        "\n"
      ]
    }
  ]
}